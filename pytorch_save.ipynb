{
 "cells": [
  {
   "cell_type": "code",
   "execution_count": 1,
   "metadata": {},
   "outputs": [
    {
     "name": "stderr",
     "output_type": "stream",
     "text": [
      "Using cache found in /home/yang/.cache/torch/hub/facebookresearch_pytorch_GAN_zoo_hub\n"
     ]
    },
    {
     "name": "stdout",
     "output_type": "stream",
     "text": [
      "/home/yang/.cache/torch/hub/facebookresearch_pytorch_GAN_zoo_hub\n",
      "hubconf.py\n",
      "Average network found !\n"
     ]
    }
   ],
   "source": [
    "import torch\n",
    "use_gpu = True if torch.cuda.is_available() else False\n",
    "\n",
    "# trained on high-quality celebrity faces \"celebA\" dataset\n",
    "# this model outputs 512 x 512 pixel images\n",
    "model = torch.hub.load('facebookresearch/pytorch_GAN_zoo:hub',\n",
    "                       'PGAN', model_name='celebAHQ-512',\n",
    "                       pretrained=True, useGPU=use_gpu)"
   ]
  },
  {
   "cell_type": "code",
   "execution_count": 2,
   "metadata": {},
   "outputs": [],
   "source": [
    "import modulepickle; modulepickle.extend_cloudpickle()\n",
    "import cloudpickle\n",
    "import sys"
   ]
  },
  {
   "cell_type": "code",
   "execution_count": 3,
   "metadata": {},
   "outputs": [
    {
     "name": "stdout",
     "output_type": "stream",
     "text": [
      "get local models.progressive_gan in save_module, path is /home/yang/.cache/torch/hub/facebookresearch_pytorch_GAN_zoo_hub/models/progressive_gan.py\n",
      "get local modulepickle in save_module, path is /home/yang/sources/modulepickle/modulepickle/__init__.py\n"
     ]
    }
   ],
   "source": [
    "with open(\"/tmp/pgan_hack_2.pkl\", \"wb\") as f:\n",
    "    cloudpickle.dump(model, f)"
   ]
  },
  {
   "cell_type": "code",
   "execution_count": null,
   "metadata": {},
   "outputs": [],
   "source": []
  }
 ],
 "metadata": {
  "kernelspec": {
   "display_name": "Python 3",
   "language": "python",
   "name": "python3"
  },
  "language_info": {
   "codemirror_mode": {
    "name": "ipython",
    "version": 3
   },
   "file_extension": ".py",
   "mimetype": "text/x-python",
   "name": "python",
   "nbconvert_exporter": "python",
   "pygments_lexer": "ipython3",
   "version": "3.6.7"
  }
 },
 "nbformat": 4,
 "nbformat_minor": 4
}
